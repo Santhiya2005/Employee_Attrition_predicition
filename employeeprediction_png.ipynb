{
  "nbformat": 4,
  "nbformat_minor": 0,
  "metadata": {
    "colab": {
      "provenance": []
    },
    "kernelspec": {
      "name": "python3",
      "display_name": "Python 3"
    },
    "language_info": {
      "name": "python"
    }
  },
  "cells": [
    {
      "cell_type": "code",
      "execution_count": 3,
      "metadata": {
        "id": "Ia0J1U3v2hm6"
      },
      "outputs": [],
      "source": [
        "import pandas as pd\n",
        "import numpy as np\n",
        "import seaborn as sns\n",
        "import matplotlib.pyplot as plt\n",
        "from scipy import stats\n",
        "from sklearn.preprocessing import OneHotEncoder\n",
        "\n"
      ]
    },
    {
      "cell_type": "code",
      "source": [
        "# Load the dataset\n",
        "data = pd.read_csv('/content/employee_attrition_dataset.csv')\n",
        "\n",
        "# Initial exploration\n",
        "print(data.head())  # Display first few rows of the dataset\n",
        "print(data.info())  # General information about the dataset\n",
        "print(data.describe())  # Statistical summary for numerical columns\n"
      ],
      "metadata": {
        "colab": {
          "base_uri": "https://localhost:8080/"
        },
        "id": "Ac_ErofE2id-",
        "outputId": "b951bcfe-bdea-42f2-89c3-39e5d71b8263"
      },
      "execution_count": 4,
      "outputs": [
        {
          "output_type": "stream",
          "name": "stdout",
          "text": [
            "   EmployeeID  Age  Gender MaritalStatus    Education Department     JobRole  \\\n",
            "0           1   54    Male        Single          PhD      Sales     Analyst   \n",
            "1           2   47    Male       Married       Master    Finance  Technician   \n",
            "2           3   41  Female       Married       Master      Sales     Manager   \n",
            "3           4   29    Male      Divorced  High School         IT     Manager   \n",
            "4           5   37  Female      Divorced  High School         IT   Developer   \n",
            "\n",
            "   YearsAtCompany  YearsInCurrentRole  MonthlyIncome  JobSatisfaction  \\\n",
            "0              17                  12       19618.16                2   \n",
            "1              32                   7        7958.49                4   \n",
            "2              37                   7       10839.85                3   \n",
            "3               3                  18       14488.44                5   \n",
            "4              25                  12        9591.07                3   \n",
            "\n",
            "   WorkLifeBalance  TrainingTimesLastYear OverTime  DistanceFromHome Attrition  \n",
            "0                3                      3       No             27.77        No  \n",
            "1                2                      9       No             43.56        No  \n",
            "2                2                      2      Yes             25.76       Yes  \n",
            "3                2                      4      Yes             25.11       Yes  \n",
            "4                1                      7       No              2.87       Yes  \n",
            "<class 'pandas.core.frame.DataFrame'>\n",
            "RangeIndex: 5000 entries, 0 to 4999\n",
            "Data columns (total 16 columns):\n",
            " #   Column                 Non-Null Count  Dtype  \n",
            "---  ------                 --------------  -----  \n",
            " 0   EmployeeID             5000 non-null   int64  \n",
            " 1   Age                    5000 non-null   int64  \n",
            " 2   Gender                 5000 non-null   object \n",
            " 3   MaritalStatus          5000 non-null   object \n",
            " 4   Education              5000 non-null   object \n",
            " 5   Department             5000 non-null   object \n",
            " 6   JobRole                5000 non-null   object \n",
            " 7   YearsAtCompany         5000 non-null   int64  \n",
            " 8   YearsInCurrentRole     5000 non-null   int64  \n",
            " 9   MonthlyIncome          5000 non-null   float64\n",
            " 10  JobSatisfaction        5000 non-null   int64  \n",
            " 11  WorkLifeBalance        5000 non-null   int64  \n",
            " 12  TrainingTimesLastYear  5000 non-null   int64  \n",
            " 13  OverTime               5000 non-null   object \n",
            " 14  DistanceFromHome       5000 non-null   float64\n",
            " 15  Attrition              5000 non-null   object \n",
            "dtypes: float64(2), int64(7), object(7)\n",
            "memory usage: 625.1+ KB\n",
            "None\n",
            "        EmployeeID          Age  YearsAtCompany  YearsInCurrentRole  \\\n",
            "count  5000.000000  5000.000000      5000.00000         5000.000000   \n",
            "mean   2500.500000    43.061600        20.08260            9.937800   \n",
            "std    1443.520003    12.334044        11.39102            5.494613   \n",
            "min       1.000000    22.000000         1.00000            1.000000   \n",
            "25%    1250.750000    32.000000        10.00000            5.000000   \n",
            "50%    2500.500000    43.000000        20.00000           10.000000   \n",
            "75%    3750.250000    54.000000        30.00000           15.000000   \n",
            "max    5000.000000    64.000000        39.00000           19.000000   \n",
            "\n",
            "       MonthlyIncome  JobSatisfaction  WorkLifeBalance  TrainingTimesLastYear  \\\n",
            "count    5000.000000      5000.000000      5000.000000            5000.000000   \n",
            "mean    10986.208882         3.021000         3.031600               4.507400   \n",
            "std      5245.189505         1.414835         1.411028               2.860416   \n",
            "min      2003.150000         1.000000         1.000000               0.000000   \n",
            "25%      6431.237500         2.000000         2.000000               2.000000   \n",
            "50%     10857.295000         3.000000         3.000000               4.000000   \n",
            "75%     15587.275000         4.000000         4.000000               7.000000   \n",
            "max     19997.590000         5.000000         5.000000               9.000000   \n",
            "\n",
            "       DistanceFromHome  \n",
            "count       5000.000000  \n",
            "mean          25.662342  \n",
            "std           14.181883  \n",
            "min            1.020000  \n",
            "25%           13.287500  \n",
            "50%           25.960000  \n",
            "75%           37.792500  \n",
            "max           49.990000  \n"
          ]
        }
      ]
    },
    {
      "cell_type": "code",
      "source": [
        "# Check for missing values\n",
        "missing_values = data.isnull().sum()\n",
        "print(\"\\nMissing values in each column:\")\n",
        "print(missing_values)"
      ],
      "metadata": {
        "colab": {
          "base_uri": "https://localhost:8080/"
        },
        "id": "TT61cofm3bTK",
        "outputId": "822e637f-19c0-4067-ba63-4882c8ffa177"
      },
      "execution_count": 5,
      "outputs": [
        {
          "output_type": "stream",
          "name": "stdout",
          "text": [
            "\n",
            "Missing values in each column:\n",
            "EmployeeID               0\n",
            "Age                      0\n",
            "Gender                   0\n",
            "MaritalStatus            0\n",
            "Education                0\n",
            "Department               0\n",
            "JobRole                  0\n",
            "YearsAtCompany           0\n",
            "YearsInCurrentRole       0\n",
            "MonthlyIncome            0\n",
            "JobSatisfaction          0\n",
            "WorkLifeBalance          0\n",
            "TrainingTimesLastYear    0\n",
            "OverTime                 0\n",
            "DistanceFromHome         0\n",
            "Attrition                0\n",
            "dtype: int64\n"
          ]
        }
      ]
    },
    {
      "cell_type": "code",
      "source": [
        "\n",
        "# Separate numeric and categorical columns\n",
        "numeric_cols = data.select_dtypes(include=['float64', 'int64']).columns\n",
        "categorical_cols = data.select_dtypes(include=['object']).columns"
      ],
      "metadata": {
        "id": "f0bxy0OL6OLn"
      },
      "execution_count": 6,
      "outputs": []
    },
    {
      "cell_type": "code",
      "source": [
        "\n",
        "# Handle missing values\n",
        "# Fill numeric columns with mean\n",
        "data[numeric_cols] = data[numeric_cols].fillna(data[numeric_cols].mean())\n"
      ],
      "metadata": {
        "id": "uKO5tbyl6YOR"
      },
      "execution_count": 7,
      "outputs": []
    },
    {
      "cell_type": "code",
      "source": [
        "\n",
        "# Fill categorical columns with mode (most frequent value)\n",
        "for col in categorical_cols:\n",
        "    data[col] = data[col].fillna(data[col].mode()[0])"
      ],
      "metadata": {
        "id": "-LlSbHlP6ccf"
      },
      "execution_count": 8,
      "outputs": []
    },
    {
      "cell_type": "code",
      "source": [
        "\n",
        "# Verify if missing values are handled\n",
        "missing_values_after = data.isnull().sum()\n",
        "print(\"\\nMissing values after handling:\")\n",
        "print(missing_values_after)"
      ],
      "metadata": {
        "colab": {
          "base_uri": "https://localhost:8080/"
        },
        "id": "JYBGuly46fF5",
        "outputId": "25c491c3-88f3-4eac-c687-7497d833297d"
      },
      "execution_count": 9,
      "outputs": [
        {
          "output_type": "stream",
          "name": "stdout",
          "text": [
            "\n",
            "Missing values after handling:\n",
            "EmployeeID               0\n",
            "Age                      0\n",
            "Gender                   0\n",
            "MaritalStatus            0\n",
            "Education                0\n",
            "Department               0\n",
            "JobRole                  0\n",
            "YearsAtCompany           0\n",
            "YearsInCurrentRole       0\n",
            "MonthlyIncome            0\n",
            "JobSatisfaction          0\n",
            "WorkLifeBalance          0\n",
            "TrainingTimesLastYear    0\n",
            "OverTime                 0\n",
            "DistanceFromHome         0\n",
            "Attrition                0\n",
            "dtype: int64\n"
          ]
        }
      ]
    },
    {
      "cell_type": "code",
      "source": [
        "\n",
        "# Detect and remove outliers using Z-Score\n",
        "z_scores = np.abs(stats.zscore(data[numeric_cols]))\n",
        "threshold = 3\n",
        "data_zscore_filtered = data[(z_scores < threshold).all(axis=1)]\n",
        "print(f\"\\nData shape after removing outliers using Z-Score: {data_zscore_filtered.shape}\")"
      ],
      "metadata": {
        "colab": {
          "base_uri": "https://localhost:8080/"
        },
        "id": "2qzedGPY6jef",
        "outputId": "d5ab2d22-bb25-4ba5-e9e0-e6b46b545b4b"
      },
      "execution_count": 10,
      "outputs": [
        {
          "output_type": "stream",
          "name": "stdout",
          "text": [
            "\n",
            "Data shape after removing outliers using Z-Score: (5000, 16)\n"
          ]
        }
      ]
    },
    {
      "cell_type": "code",
      "source": [
        "# Detect and remove outliers using IQR (Interquartile Range)\n",
        "Q1 = data[numeric_cols].quantile(0.25)\n",
        "Q3 = data[numeric_cols].quantile(0.75)\n",
        "IQR = Q3 - Q1\n",
        "lower_bound = Q1 - 1.5 * IQR\n",
        "upper_bound = Q3 + 1.5 * IQR\n",
        "\n",
        "data_iqr_filtered = data[~((data[numeric_cols] < lower_bound) | (data[numeric_cols] > upper_bound)).any(axis=1)]\n",
        "print(f\"\\nData shape after removing outliers using IQR: {data_iqr_filtered.shape}\")\n",
        "\n"
      ],
      "metadata": {
        "colab": {
          "base_uri": "https://localhost:8080/"
        },
        "id": "iMEDPxxh6nVS",
        "outputId": "81796009-5a17-4acd-c2e8-dd2a4dd335f7"
      },
      "execution_count": 11,
      "outputs": [
        {
          "output_type": "stream",
          "name": "stdout",
          "text": [
            "\n",
            "Data shape after removing outliers using IQR: (5000, 16)\n"
          ]
        }
      ]
    },
    {
      "cell_type": "code",
      "source": [
        "# Convert categorical variables to numerical using One-Hot Encoding\n",
        "data_encoded = pd.get_dummies(data, columns=categorical_cols, drop_first=True)\n",
        "\n",
        "print(\"\\nData after One-Hot Encoding:\")\n",
        "print(data_encoded.head())\n"
      ],
      "metadata": {
        "colab": {
          "base_uri": "https://localhost:8080/"
        },
        "id": "hx0lhdyQ6tLS",
        "outputId": "a8c91653-e79f-48ff-a34d-b05b90718189"
      },
      "execution_count": 12,
      "outputs": [
        {
          "output_type": "stream",
          "name": "stdout",
          "text": [
            "\n",
            "Data after One-Hot Encoding:\n",
            "   EmployeeID  Age  YearsAtCompany  YearsInCurrentRole  MonthlyIncome  \\\n",
            "0           1   54              17                  12       19618.16   \n",
            "1           2   47              32                   7        7958.49   \n",
            "2           3   41              37                   7       10839.85   \n",
            "3           4   29               3                  18       14488.44   \n",
            "4           5   37              25                  12        9591.07   \n",
            "\n",
            "   JobSatisfaction  WorkLifeBalance  TrainingTimesLastYear  DistanceFromHome  \\\n",
            "0                2                3                      3             27.77   \n",
            "1                4                2                      9             43.56   \n",
            "2                3                2                      2             25.76   \n",
            "3                5                2                      4             25.11   \n",
            "4                3                1                      7              2.87   \n",
            "\n",
            "   Gender_Male  ...  Department_HR  Department_IT  Department_R&D  \\\n",
            "0         True  ...          False          False           False   \n",
            "1         True  ...          False          False           False   \n",
            "2        False  ...          False          False           False   \n",
            "3         True  ...          False           True           False   \n",
            "4        False  ...          False           True           False   \n",
            "\n",
            "   Department_Sales  JobRole_Developer  JobRole_Manager  \\\n",
            "0              True              False            False   \n",
            "1             False              False            False   \n",
            "2              True              False             True   \n",
            "3             False              False             True   \n",
            "4             False               True            False   \n",
            "\n",
            "   JobRole_Sales Executive  JobRole_Technician  OverTime_Yes  Attrition_Yes  \n",
            "0                    False               False         False          False  \n",
            "1                    False                True         False          False  \n",
            "2                    False               False          True           True  \n",
            "3                    False               False          True           True  \n",
            "4                    False               False         False           True  \n",
            "\n",
            "[5 rows x 25 columns]\n"
          ]
        }
      ]
    },
    {
      "cell_type": "code",
      "source": [
        "# Final check on the dataset after preprocessing\n",
        "print(\"\\nFinal data shape after preprocessing:\")\n",
        "print(data_encoded.shape)"
      ],
      "metadata": {
        "colab": {
          "base_uri": "https://localhost:8080/"
        },
        "id": "EUK3-wGC62_w",
        "outputId": "e0e298de-c752-4ede-9463-72287f6a98a7"
      },
      "execution_count": 13,
      "outputs": [
        {
          "output_type": "stream",
          "name": "stdout",
          "text": [
            "\n",
            "Final data shape after preprocessing:\n",
            "(5000, 25)\n"
          ]
        }
      ]
    },
    {
      "cell_type": "code",
      "source": [
        "from sklearn.preprocessing import StandardScaler, MinMaxScaler\n",
        "from sklearn.decomposition import PCA"
      ],
      "metadata": {
        "id": "kvqKGHGQ64xo"
      },
      "execution_count": 14,
      "outputs": []
    },
    {
      "cell_type": "code",
      "source": [
        "from sklearn.preprocessing import StandardScaler\n",
        "\n",
        "# Selecting continuous variables for scaling\n",
        "continuous_vars = ['Age', 'YearsAtCompany', 'YearsInCurrentRole', 'MonthlyIncome', 'DistanceFromHome']\n",
        "\n",
        "# Standardizing the continuous variables\n",
        "scaler = StandardScaler()\n",
        "data[continuous_vars] = scaler.fit_transform(data[continuous_vars])\n",
        "\n",
        "# Display the scaled data\n",
        "print(\"\\nData after feature scaling:\")\n",
        "print(data[continuous_vars].head())\n"
      ],
      "metadata": {
        "colab": {
          "base_uri": "https://localhost:8080/"
        },
        "id": "tQp0d9yD7ikg",
        "outputId": "e69619f9-4800-47dd-915a-9bcca54a4852"
      },
      "execution_count": 15,
      "outputs": [
        {
          "output_type": "stream",
          "name": "stdout",
          "text": [
            "\n",
            "Data after feature scaling:\n",
            "        Age  YearsAtCompany  YearsInCurrentRole  MonthlyIncome  \\\n",
            "0  0.886935       -0.270644            0.375351       1.645854   \n",
            "1  0.319343        1.046315           -0.534723      -0.577295   \n",
            "2 -0.167164        1.485301           -0.534723      -0.027906   \n",
            "3 -1.140178       -1.499805            1.467439       0.667770   \n",
            "4 -0.491502        0.431734            0.375351      -0.266011   \n",
            "\n",
            "   DistanceFromHome  \n",
            "0          0.148631  \n",
            "1          1.262135  \n",
            "2          0.006887  \n",
            "3         -0.038951  \n",
            "4         -1.607306  \n"
          ]
        }
      ]
    },
    {
      "cell_type": "code",
      "source": [
        "# Ensure 'Department' and 'YearsAtCompany' are in the dataset\n",
        "if 'Department' in data.columns and 'YearsAtCompany' in data.columns:\n",
        "    # Calculate average tenure per department\n",
        "    department_avg_tenure = data.groupby('Department')['YearsAtCompany'].mean().reset_index()\n",
        "    department_avg_tenure.columns = ['Department', 'AvgTenurePerDepartment']\n",
        "\n",
        "    # Merge this new feature back into the dataset\n",
        "    data = pd.merge(data, department_avg_tenure, on='Department', how='left')\n",
        "\n",
        "    # Display the new feature\n",
        "    print(\"\\nData with new feature 'AvgTenurePerDepartment':\")\n",
        "    print(data[['Department', 'YearsAtCompany', 'AvgTenurePerDepartment']].head())\n"
      ],
      "metadata": {
        "colab": {
          "base_uri": "https://localhost:8080/"
        },
        "id": "BjQWvQ-QAKtS",
        "outputId": "c94db4ca-fc3c-48fe-9e1d-32e3722d4804"
      },
      "execution_count": 16,
      "outputs": [
        {
          "output_type": "stream",
          "name": "stdout",
          "text": [
            "\n",
            "Data with new feature 'AvgTenurePerDepartment':\n",
            "  Department  YearsAtCompany  AvgTenurePerDepartment\n",
            "0      Sales       -0.270644               -0.001479\n",
            "1    Finance        1.046315                0.032360\n",
            "2      Sales        1.485301               -0.001479\n",
            "3         IT       -1.499805                0.008047\n",
            "4         IT        0.431734                0.008047\n"
          ]
        }
      ]
    },
    {
      "cell_type": "code",
      "source": [
        "from sklearn.decomposition import PCA\n",
        "\n",
        "# Define the number of principal components to retain (let's use 2 for simplicity)\n",
        "pca = PCA(n_components=2)\n",
        "\n",
        "# Perform PCA on the scaled data (excluding categorical columns)\n",
        "continuous_vars_scaled = data[continuous_vars]\n",
        "pca_components = pca.fit_transform(continuous_vars_scaled)\n",
        "\n",
        "# Add PCA components back to the dataset\n",
        "data['PCA1'] = pca_components[:, 0]\n",
        "data['PCA2'] = pca_components[:, 1]\n",
        "\n",
        "# Display the first few rows with the PCA components\n",
        "print(\"\\nData with PCA components:\")\n",
        "print(data[['PCA1', 'PCA2']].head())\n"
      ],
      "metadata": {
        "colab": {
          "base_uri": "https://localhost:8080/"
        },
        "id": "ba5c7KCyAVU9",
        "outputId": "087149e9-aaf0-4d71-ade4-456b1e87dc35"
      },
      "execution_count": 17,
      "outputs": [
        {
          "output_type": "stream",
          "name": "stdout",
          "text": [
            "\n",
            "Data with PCA components:\n",
            "       PCA1      PCA2\n",
            "0  0.780353 -0.064055\n",
            "1 -1.135286  1.410780\n",
            "2  0.050501  1.241036\n",
            "3  1.259305 -0.990052\n",
            "4  1.031785 -0.556676\n"
          ]
        }
      ]
    },
    {
      "cell_type": "code",
      "source": [
        "import pandas as pd\n",
        "from sklearn.model_selection import train_test_split\n",
        "\n",
        "# Assuming 'data' is your DataFrame with the necessary preprocessing done\n",
        "# First, ensure that categorical variables are encoded\n",
        "X = data.drop(columns=['EmployeeID', 'Attrition'])  # Features\n",
        "y = data['Attrition'].map({'Yes': 1, 'No': 0})  # Target variable (binary)\n",
        "\n",
        "# One-Hot Encoding for categorical features\n",
        "X = pd.get_dummies(X, drop_first=True)\n",
        "\n",
        "# Split the dataset into training and testing sets (80-20 split)\n",
        "X_train, X_test, y_train, y_test = train_test_split(X, y, test_size=0.2, random_state=42)\n",
        "\n",
        "# Output the sizes of the training and testing sets\n",
        "print(f\"Training set size: {X_train.shape[0]}\")\n",
        "print(f\"Testing set size: {X_test.shape[0]}\")\n"
      ],
      "metadata": {
        "colab": {
          "base_uri": "https://localhost:8080/"
        },
        "id": "BVCOV1WHB1zO",
        "outputId": "861d6e9b-74ff-4d2b-8476-5716bbb01b41"
      },
      "execution_count": 18,
      "outputs": [
        {
          "output_type": "stream",
          "name": "stdout",
          "text": [
            "Training set size: 4000\n",
            "Testing set size: 1000\n"
          ]
        }
      ]
    },
    {
      "cell_type": "code",
      "source": [
        "from sklearn.linear_model import LogisticRegression\n",
        "from sklearn.tree import DecisionTreeClassifier\n",
        "from sklearn.ensemble import RandomForestClassifier, GradientBoostingClassifier\n",
        "from sklearn.metrics import classification_report\n",
        "\n",
        "# Initialize models\n",
        "models = {\n",
        "    'Logistic Regression': LogisticRegression(max_iter=1000),\n",
        "    'Decision Tree': DecisionTreeClassifier(),\n",
        "    'Random Forest': RandomForestClassifier(),\n",
        "    'Gradient Boosting': GradientBoostingClassifier()\n",
        "}\n",
        "\n",
        "# Train and evaluate each model\n",
        "for model_name, model in models.items():\n",
        "    model.fit(X_train, y_train)\n",
        "    y_pred = model.predict(X_test)\n",
        "    print(f\"\\n{model_name} Classification Report:\")\n",
        "    print(classification_report(y_test, y_pred))\n"
      ],
      "metadata": {
        "colab": {
          "base_uri": "https://localhost:8080/"
        },
        "id": "BjdzRCZxBLOs",
        "outputId": "6d84fa71-4242-417e-e737-4768b61a4609"
      },
      "execution_count": 19,
      "outputs": [
        {
          "output_type": "stream",
          "name": "stdout",
          "text": [
            "\n",
            "Logistic Regression Classification Report:\n",
            "              precision    recall  f1-score   support\n",
            "\n",
            "           0       0.50      0.55      0.53       485\n",
            "           1       0.53      0.48      0.51       515\n",
            "\n",
            "    accuracy                           0.52      1000\n",
            "   macro avg       0.52      0.52      0.52      1000\n",
            "weighted avg       0.52      0.52      0.52      1000\n",
            "\n",
            "\n",
            "Decision Tree Classification Report:\n",
            "              precision    recall  f1-score   support\n",
            "\n",
            "           0       0.52      0.52      0.52       485\n",
            "           1       0.55      0.55      0.55       515\n",
            "\n",
            "    accuracy                           0.54      1000\n",
            "   macro avg       0.53      0.53      0.53      1000\n",
            "weighted avg       0.53      0.54      0.53      1000\n",
            "\n",
            "\n",
            "Random Forest Classification Report:\n",
            "              precision    recall  f1-score   support\n",
            "\n",
            "           0       0.50      0.53      0.52       485\n",
            "           1       0.54      0.51      0.52       515\n",
            "\n",
            "    accuracy                           0.52      1000\n",
            "   macro avg       0.52      0.52      0.52      1000\n",
            "weighted avg       0.52      0.52      0.52      1000\n",
            "\n",
            "\n",
            "Gradient Boosting Classification Report:\n",
            "              precision    recall  f1-score   support\n",
            "\n",
            "           0       0.52      0.57      0.54       485\n",
            "           1       0.56      0.51      0.53       515\n",
            "\n",
            "    accuracy                           0.54      1000\n",
            "   macro avg       0.54      0.54      0.54      1000\n",
            "weighted avg       0.54      0.54      0.54      1000\n",
            "\n"
          ]
        }
      ]
    },
    {
      "cell_type": "code",
      "source": [
        "from sklearn.model_selection import GridSearchCV\n",
        "\n",
        "# Example for Random Forest\n",
        "param_grid = {\n",
        "    'n_estimators': [50, 100, 200],\n",
        "    'max_depth': [None, 10, 20],\n",
        "    'min_samples_split': [2, 5, 10]\n",
        "}\n",
        "\n",
        "# Set up Grid Search\n",
        "grid_search = GridSearchCV(RandomForestClassifier(), param_grid, cv=5, scoring='accuracy', n_jobs=-1)\n",
        "\n",
        "# Fit Grid Search\n",
        "grid_search.fit(X_train, y_train)\n",
        "\n",
        "# Best parameters and score\n",
        "print(\"\\nBest parameters for Random Forest:\")\n",
        "print(grid_search.best_params_)\n",
        "print(f\"Best cross-validation score: {grid_search.best_score_:.4f}\")\n",
        "\n",
        "# Evaluate the best model on the test set\n",
        "best_rf_model = grid_search.best_estimator_\n",
        "y_pred_best_rf = best_rf_model.predict(X_test)\n",
        "print(\"\\nBest Random Forest Classification Report:\")\n",
        "print(classification_report(y_test, y_pred_best_rf))\n"
      ],
      "metadata": {
        "colab": {
          "base_uri": "https://localhost:8080/"
        },
        "id": "9qjgvy4wBNFa",
        "outputId": "bc625837-dbfd-47a8-ae4d-75028af5f2cb"
      },
      "execution_count": 20,
      "outputs": [
        {
          "output_type": "stream",
          "name": "stdout",
          "text": [
            "\n",
            "Best parameters for Random Forest:\n",
            "{'max_depth': 20, 'min_samples_split': 5, 'n_estimators': 200}\n",
            "Best cross-validation score: 0.5142\n",
            "\n",
            "Best Random Forest Classification Report:\n",
            "              precision    recall  f1-score   support\n",
            "\n",
            "           0       0.50      0.52      0.51       485\n",
            "           1       0.53      0.51      0.52       515\n",
            "\n",
            "    accuracy                           0.52      1000\n",
            "   macro avg       0.52      0.52      0.52      1000\n",
            "weighted avg       0.52      0.52      0.52      1000\n",
            "\n"
          ]
        }
      ]
    },
    {
      "cell_type": "code",
      "source": [
        "from sklearn.metrics import accuracy_score, precision_score, recall_score, f1_score, roc_auc_score\n",
        "import matplotlib.pyplot as plt\n",
        "import seaborn as sns\n",
        "\n",
        "# Store metrics for comparison\n",
        "model_performance = {}\n",
        "\n",
        "# Train and evaluate each model\n",
        "for model_name, model in models.items():\n",
        "    model.fit(X_train, y_train)\n",
        "    y_pred = model.predict(X_test)\n",
        "    y_pred_prob = model.predict_proba(X_test)[:, 1]  # Probabilities for AUC-ROC\n",
        "\n",
        "    # Calculate metrics\n",
        "    accuracy = accuracy_score(y_test, y_pred)\n",
        "    precision = precision_score(y_test, y_pred)\n",
        "    recall = recall_score(y_test, y_pred)\n",
        "    f1 = f1_score(y_test, y_pred)\n",
        "    auc_roc = roc_auc_score(y_test, y_pred_prob)\n",
        "\n",
        "    # Store the results\n",
        "    model_performance[model_name] = {\n",
        "        'Accuracy': accuracy,\n",
        "        'Precision': precision,\n",
        "        'Recall': recall,\n",
        "        'F1-Score': f1,\n",
        "        'AUC-ROC': auc_roc\n",
        "    }\n",
        "\n",
        "# Convert the performance dictionary to a DataFrame for easier visualization\n",
        "performance_df = pd.DataFrame(model_performance).T\n",
        "\n",
        "# Print the performance metrics\n",
        "print(performance_df)\n",
        "\n",
        "# Visualize model performance\n",
        "plt.figure(figsize=(10, 6))\n",
        "sns.barplot(data=performance_df, palette=\"viridis\")\n",
        "plt.title('Model Performance Comparison')\n",
        "plt.ylabel('Score')\n",
        "plt.xticks(rotation=45)\n",
        "plt.show()\n",
        "\n",
        "# Feature importance for Random Forest and Gradient Boosting\n",
        "best_model = 'Random Forest'  # Replace with the model you choose\n",
        "if best_model == 'Random Forest':\n",
        "    feature_importance = models[best_model].feature_importances_\n",
        "elif best_model == 'Gradient Boosting':\n",
        "    feature_importance = models[best_model].feature_importances_\n",
        "\n",
        "# Create a DataFrame for feature importance\n",
        "importance_df = pd.DataFrame({\n",
        "    'Feature': X.columns,\n",
        "    'Importance': feature_importance\n",
        "}).sort_values(by='Importance', ascending=False)\n",
        "\n",
        "# Visualize feature importance\n",
        "plt.figure(figsize=(10, 6))\n",
        "sns.barplot(data=importance_df, x='Importance', y='Feature', palette=\"viridis\")\n",
        "plt.title('Feature Importance for ' + best_model)\n",
        "plt.show()\n"
      ],
      "metadata": {
        "colab": {
          "base_uri": "https://localhost:8080/",
          "height": 1000
        },
        "id": "bLkU79L3B-xA",
        "outputId": "e05abe73-9b45-49ea-9f2f-d28b925c77d4"
      },
      "execution_count": 22,
      "outputs": [
        {
          "output_type": "stream",
          "name": "stdout",
          "text": [
            "                     Accuracy  Precision    Recall  F1-Score   AUC-ROC\n",
            "Logistic Regression     0.517   0.534483  0.481553  0.506639  0.523131\n",
            "Decision Tree           0.544   0.556840  0.561165  0.558994  0.543469\n",
            "Random Forest           0.490   0.505219  0.469903  0.486922  0.492459\n",
            "Gradient Boosting       0.537   0.555085  0.508738  0.530902  0.529026\n"
          ]
        },
        {
          "output_type": "display_data",
          "data": {
            "text/plain": [
              "<Figure size 1000x600 with 1 Axes>"
            ],
            "image/png": "[encoded data removed]"
          },
          "metadata": {}
        },
        {
          "output_type": "stream",
          "name": "stderr",
          "text": [
            "<ipython-input-22-12202a48fa90>:59: FutureWarning: \n",
            "\n",
            "Passing `palette` without assigning `hue` is deprecated and will be removed in v0.14.0. Assign the `y` variable to `hue` and set `legend=False` for the same effect.\n",
            "\n",
            "  sns.barplot(data=importance_df, x='Importance', y='Feature', palette=\"viridis\")\n"
          ]
        },
        {
          "output_type": "display_data",
          "data": {
            "text/plain": [
              "<Figure size 1000x600 with 1 Axes>"
            ],
            "image/png": "[encoded data removed]"
          },
          "metadata": {}
        }
      ]
    },
    {
      "cell_type": "markdown",
      "source": [],
      "metadata": {
        "id": "RYG9nW9YHUAp"
      }
    },
    {
      "cell_type": "markdown",
      "source": [],
      "metadata": {
        "id": "9kQitx5ZIJXZ"
      }
    },
    {
      "cell_type": "code",
      "source": [
        "import pandas as pd\n",
        "from sklearn.preprocessing import StandardScaler\n",
        "from sklearn.ensemble import RandomForestClassifier\n",
        "\n",
        "# Example employee data\n",
        "employee_data = {\n",
        "    'Age': 35,\n",
        "    'Gender': 'Female',\n",
        "    'MaritalStatus': 'Married',\n",
        "    'Education': 'Bachelor',\n",
        "    'Department': 'IT',\n",
        "    'JobRole': 'Developer',\n",
        "    'YearsAtCompany': 5,\n",
        "    'YearsInCurrentRole': 3,\n",
        "    'MonthlyIncome': 5000,\n",
        "    'JobSatisfaction': 4,\n",
        "    'WorkLifeBalance': 3,\n",
        "    'TrainingTimesLastYear': 2,\n",
        "    'OverTime': 'No',\n",
        "    'DistanceFromHome': 10\n",
        "}\n",
        "\n",
        "# Create a DataFrame for the employee\n",
        "employee_df = pd.DataFrame([employee_data])\n",
        "\n",
        "# Preprocess the data (same steps as training)\n",
        "employee_df = pd.get_dummies(employee_df, drop_first=True)\n",
        "\n",
        "# Ensure the DataFrame has the same feature columns as the training set\n",
        "missing_cols = set(X_train.columns) - set(employee_df.columns)\n",
        "for col in missing_cols:\n",
        "    employee_df[col] = 0  # Add missing columns with default value\n",
        "\n",
        "# Reorder columns to match the training set\n",
        "employee_df = employee_df[X_train.columns]\n",
        "\n",
        "# Standardize the continuous features\n",
        "scaler = StandardScaler()\n",
        "employee_df_scaled = scaler.fit_transform(employee_df)\n",
        "\n",
        "# Make a prediction\n",
        "prediction = models['Random Forest'].predict(employee_df_scaled)\n",
        "\n",
        "# Map the prediction back to original labels\n",
        "result = 'Yes' if prediction[0] == 1 else 'No'\n",
        "print(f\"Will the employee leave the organization? {result}\")\n"
      ],
      "metadata": {
        "colab": {
          "base_uri": "https://localhost:8080/"
        },
        "id": "n8MbMmUBHzqK",
        "outputId": "c152f597-ad82-4823-dd7c-987eff9321fc"
      },
      "execution_count": 23,
      "outputs": [
        {
          "output_type": "stream",
          "name": "stdout",
          "text": [
            "Will the employee leave the organization? Yes\n"
          ]
        },
        {
          "output_type": "stream",
          "name": "stderr",
          "text": [
            "/usr/local/lib/python3.10/dist-packages/sklearn/base.py:493: UserWarning: X does not have valid feature names, but RandomForestClassifier was fitted with feature names\n",
            "  warnings.warn(\n"
          ]
        }
      ]
    },
    {
      "cell_type": "code",
      "source": [
        "import pandas as pd\n",
        "from sklearn.preprocessing import StandardScaler\n",
        "\n",
        "# Assuming 'data' is your original DataFrame containing employee information\n",
        "data_original = data.copy()\n",
        "\n",
        "# Print column names to verify the presence of an employee identifier\n",
        "print(\"Columns in the DataFrame:\", data.columns)\n",
        "\n",
        "# Check for the presence of an employee identifier (assuming it's not 'EmployeeID')\n",
        "employee_identifier = 'EmployeeID'  # Change this if your DataFrame has a different identifier\n",
        "if employee_identifier not in data.columns:\n",
        "    # If 'EmployeeID' is not found, we need to decide on an alternative identifier\n",
        "    # For now, we will just show the DataFrame without an ID\n",
        "    employee_identifier = None\n",
        "\n",
        "# Drop the target variable if it exists\n",
        "if 'Attrition' in data.columns:\n",
        "    data_encoded = pd.get_dummies(data.drop(columns=['Attrition']), drop_first=True)\n",
        "else:\n",
        "    data_encoded = pd.get_dummies(data, drop_first=True)  # Encode without dropping if 'Attrition' is missing\n",
        "\n",
        "# Ensure the DataFrame has the same feature columns as the training set\n",
        "missing_cols = set(X_train.columns) - set(data_encoded.columns)\n",
        "for col in missing_cols:\n",
        "    data_encoded[col] = 0  # Add missing columns with default value\n",
        "\n",
        "# Reorder columns to match the training set\n",
        "data_encoded = data_encoded[X_train.columns]\n",
        "\n",
        "# Standardize the continuous features\n",
        "scaler = StandardScaler()\n",
        "data_scaled = scaler.fit_transform(data_encoded)\n",
        "\n",
        "# Make predictions for all employees\n",
        "predictions = models['Random Forest'].predict(data_scaled)\n",
        "\n",
        "# Add predictions to the original DataFrame\n",
        "data_original['Attrition Prediction'] = ['Yes' if pred == 1 else 'No' for pred in predictions]\n",
        "\n",
        "# Display the DataFrame with predictions\n",
        "if employee_identifier and employee_identifier in data_original.columns:\n",
        "    print(data_original[[employee_identifier, 'Attrition Prediction']])\n",
        "else:\n",
        "    print(data_original[['Attrition Prediction']])\n"
      ],
      "metadata": {
        "colab": {
          "base_uri": "https://localhost:8080/"
        },
        "id": "w4ug5B_BJInl",
        "outputId": "2d9d465f-955d-4a3a-a903-8b06da02153e"
      },
      "execution_count": 24,
      "outputs": [
        {
          "output_type": "stream",
          "name": "stdout",
          "text": [
            "Columns in the DataFrame: Index(['EmployeeID', 'Age', 'Gender', 'MaritalStatus', 'Education',\n",
            "       'Department', 'JobRole', 'YearsAtCompany', 'YearsInCurrentRole',\n",
            "       'MonthlyIncome', 'JobSatisfaction', 'WorkLifeBalance',\n",
            "       'TrainingTimesLastYear', 'OverTime', 'DistanceFromHome', 'Attrition',\n",
            "       'AvgTenurePerDepartment', 'PCA1', 'PCA2'],\n",
            "      dtype='object')\n",
            "      EmployeeID Attrition Prediction\n",
            "0              1                   No\n",
            "1              2                   No\n",
            "2              3                  Yes\n",
            "3              4                  Yes\n",
            "4              5                  Yes\n",
            "...          ...                  ...\n",
            "4995        4996                   No\n",
            "4996        4997                  Yes\n",
            "4997        4998                   No\n",
            "4998        4999                  Yes\n",
            "4999        5000                  Yes\n",
            "\n",
            "[5000 rows x 2 columns]\n"
          ]
        },
        {
          "output_type": "stream",
          "name": "stderr",
          "text": [
            "/usr/local/lib/python3.10/dist-packages/sklearn/base.py:493: UserWarning: X does not have valid feature names, but RandomForestClassifier was fitted with feature names\n",
            "  warnings.warn(\n"
          ]
        }
      ]
    },
    {
      "cell_type": "markdown",
      "source": [],
      "metadata": {
        "id": "RnBWI7-3eQAC"
      }
    },
    {
      "cell_type": "code",
      "source": [],
      "metadata": {
        "id": "EN15u40Gfy8l"
      },
      "execution_count": null,
      "outputs": []
    }
  ]
}